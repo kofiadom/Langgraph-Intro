{
  "nbformat": 4,
  "nbformat_minor": 0,
  "metadata": {
    "colab": {
      "provenance": [],
      "authorship_tag": "ABX9TyOKg+eEQHWFZ7s2fFLS3/U4",
      "include_colab_link": true
    },
    "kernelspec": {
      "name": "python3",
      "display_name": "Python 3"
    },
    "language_info": {
      "name": "python"
    }
  },
  "cells": [
    {
      "cell_type": "markdown",
      "metadata": {
        "id": "view-in-github",
        "colab_type": "text"
      },
      "source": [
        "<a href=\"https://colab.research.google.com/github/kofiadom/Langgraph-Intro/blob/main/Langraph_Agents_Intro.ipynb\" target=\"_parent\"><img src=\"https://colab.research.google.com/assets/colab-badge.svg\" alt=\"Open In Colab\"/></a>"
      ]
    },
    {
      "cell_type": "markdown",
      "source": [
        "#**Tutorial: Developing a Simple Agent with LangGraph and Llama3.3 in Groq**\n",
        "\n"
      ],
      "metadata": {
        "id": "qbuViLZmeUkb"
      }
    },
    {
      "cell_type": "markdown",
      "source": [
        "In this tutorial, I will walk through the process of developing a simple agent using LangGraph and the Llama3 model in Groq. This agent will be capable of fetching weather information and generating a conversational weather report. We will cover key concepts such as states, nodes, edges, and routing.\n",
        "\n",
        "##**Key Concepts**\n",
        "\n",
        "1. **State**:\n",
        "A state represents the current context or data that the agent is working with. In our case, we use MessagesState to hold the messages exchanged between the user and the agent.\n",
        "Usage: The state is passed around as the agent processes user inputs and generates responses.\n",
        "\n",
        "\n",
        "2. **Node**:\n",
        "A node is a functional unit in the graph that performs a specific task. Each node can represent a function or a tool that the agent can invoke.\n",
        "Example: In our code, we define nodes such as llm_with_tools and generate_weather_report to handle different parts of the conversation and weather reporting.\n",
        "\n",
        "\n",
        "3. **Edges**:\n",
        "Edges connect nodes in the graph, defining the flow of execution from one node to another. There are 2 types. First, **Standard edges** which connect nodes in a linear fashion. Second, **Conditional edges** which allow for branching logic based on certain conditions. For example, if the last message from the assistant is a tool call, the flow will route to the tools node; otherwise, it will end the process.\n",
        "\n",
        "\n",
        "\n",
        "4. **Routing**:\n",
        "Routing determines how the agent transitions between different nodes based on the current state and conditions. **Implementation**: In our code, we use add_conditional_edges to define how the agent should respond based on the type of message received."
      ],
      "metadata": {
        "id": "wrkKcEyThfgN"
      }
    },
    {
      "cell_type": "markdown",
      "source": [
        "## **Step 1: Import Required Libraries**"
      ],
      "metadata": {
        "id": "M2XbUBZzkcbN"
      }
    },
    {
      "cell_type": "code",
      "source": [
        "!pip install -q typing_extensions langgraph langchain_openai langchain-groq langchain_core python-dotenv"
      ],
      "metadata": {
        "colab": {
          "base_uri": "https://localhost:8080/"
        },
        "id": "CiG5hJQ-ZWHS",
        "outputId": "3ace5ff3-6041-4cf1-8d3b-4b86e89a27c1"
      },
      "execution_count": 1,
      "outputs": [
        {
          "output_type": "stream",
          "name": "stdout",
          "text": [
            "\u001b[?25l   \u001b[90m━━━━━━━━━━━━━━━━━━━━━━━━━━━━━━━━━━━━━━━━\u001b[0m \u001b[32m0.0/145.3 kB\u001b[0m \u001b[31m?\u001b[0m eta \u001b[36m-:--:--\u001b[0m\r\u001b[2K   \u001b[91m━━━━━━━━━━━━━━━━━━━━━━━━━━━━━━━━━━━━━━━\u001b[0m\u001b[90m╺\u001b[0m \u001b[32m143.4/145.3 kB\u001b[0m \u001b[31m7.1 MB/s\u001b[0m eta \u001b[36m0:00:01\u001b[0m\r\u001b[2K   \u001b[90m━━━━━━━━━━━━━━━━━━━━━━━━━━━━━━━━━━━━━━━━\u001b[0m \u001b[32m145.3/145.3 kB\u001b[0m \u001b[31m3.4 MB/s\u001b[0m eta \u001b[36m0:00:00\u001b[0m\n",
            "\u001b[2K   \u001b[90m━━━━━━━━━━━━━━━━━━━━━━━━━━━━━━━━━━━━━━━━\u001b[0m \u001b[32m54.3/54.3 kB\u001b[0m \u001b[31m3.6 MB/s\u001b[0m eta \u001b[36m0:00:00\u001b[0m\n",
            "\u001b[2K   \u001b[90m━━━━━━━━━━━━━━━━━━━━━━━━━━━━━━━━━━━━━━━━\u001b[0m \u001b[32m412.2/412.2 kB\u001b[0m \u001b[31m15.1 MB/s\u001b[0m eta \u001b[36m0:00:00\u001b[0m\n",
            "\u001b[2K   \u001b[90m━━━━━━━━━━━━━━━━━━━━━━━━━━━━━━━━━━━━━━━━\u001b[0m \u001b[32m109.6/109.6 kB\u001b[0m \u001b[31m6.6 MB/s\u001b[0m eta \u001b[36m0:00:00\u001b[0m\n",
            "\u001b[2K   \u001b[90m━━━━━━━━━━━━━━━━━━━━━━━━━━━━━━━━━━━━━━━━\u001b[0m \u001b[32m44.7/44.7 kB\u001b[0m \u001b[31m2.5 MB/s\u001b[0m eta \u001b[36m0:00:00\u001b[0m\n",
            "\u001b[2K   \u001b[90m━━━━━━━━━━━━━━━━━━━━━━━━━━━━━━━━━━━━━━━━\u001b[0m \u001b[32m1.2/1.2 MB\u001b[0m \u001b[31m31.8 MB/s\u001b[0m eta \u001b[36m0:00:00\u001b[0m\n",
            "\u001b[?25h"
          ]
        }
      ]
    },
    {
      "cell_type": "code",
      "source": [
        "import requests\n",
        "import os\n",
        "from IPython.display import Image, display\n",
        "from langchain_groq import ChatGroq\n",
        "from langchain_core.messages import HumanMessage\n",
        "import json\n",
        "from langgraph.graph import StateGraph, START, END\n",
        "from langgraph.graph import MessagesState\n",
        "from langgraph.prebuilt import ToolNode\n",
        "from langgraph.prebuilt import tools_condition"
      ],
      "metadata": {
        "id": "jB18sWK8lLfO"
      },
      "execution_count": 2,
      "outputs": []
    },
    {
      "cell_type": "markdown",
      "source": [
        "## **Step 2: Define Functions**"
      ],
      "metadata": {
        "id": "qoIVTwjqlM7D"
      }
    },
    {
      "cell_type": "code",
      "execution_count": 3,
      "metadata": {
        "colab": {
          "base_uri": "https://localhost:8080/"
        },
        "id": "flRN42t0_NOE",
        "outputId": "5ccede68-786c-429e-966a-af86b2ba5f72"
      },
      "outputs": [
        {
          "output_type": "stream",
          "name": "stdout",
          "text": [
            "Weather in Kumasi, Ghana:\n",
            "- Condition: Partly cloudy\n",
            "- Temperature: 35.2°C (Feels like: 33.6°C)\n",
            "- Wind: 4.7 kph, Direction: ESE\n",
            "- Humidity: 44%\n",
            "- Cloudiness: 50%\n",
            "- Last updated: 2025-01-23 14:30\n",
            "\n",
            "Air Quality Index (AQI):\n",
            "- CO (Carbon Monoxide): 595.7 µg/m³\n",
            "- NO2 (Nitrogen Dioxide): 1.48 µg/m³\n",
            "- O3 (Ozone): 120.0 µg/m³\n",
            "- PM10 (Particulate Matter <10µm): 169.645 µg/m³\n",
            "- PM2.5 (Particulate Matter <2.5µm): 57.35 µg/m³\n",
            "- SO2 (Sulfur Dioxide): 2.035 µg/m³\n"
          ]
        }
      ],
      "source": [
        "from google.colab import userdata\n",
        "weather_api_key = userdata.get('WEATHER_API_KEY')\n",
        "GROQ_API_KEY = userdata.get('GROQ_API_KEY')\n",
        "\n",
        "def get_detailed_weather_weatherapi(city: str) -> str:\n",
        "    \"\"\"\n",
        "    Fetches an extended weather report, including air quality, for a given city using WeatherAPI.\n",
        "\n",
        "    Parameters:\n",
        "        city (str): The name of the city to get the weather for.\n",
        "        api_key (str): Your WeatherAPI key.\n",
        "\n",
        "    Returns:\n",
        "        str: A detailed weather and air quality report as a text message.\n",
        "    \"\"\"\n",
        "    base_url = \"http://api.weatherapi.com/v1/current.json\"\n",
        "    params = {\n",
        "        \"key\": weather_api_key,\n",
        "        \"q\": city,\n",
        "        \"aqi\": \"yes\"  # Include air quality data\n",
        "    }\n",
        "\n",
        "    try:\n",
        "        response = requests.get(base_url, params=params)\n",
        "        data = response.json()\n",
        "\n",
        "        if response.status_code == 200:\n",
        "            # Extract key weather details\n",
        "            location = data[\"location\"][\"name\"]\n",
        "            country = data[\"location\"][\"country\"]\n",
        "            temperature = data[\"current\"][\"temp_c\"]\n",
        "            feels_like = data[\"current\"][\"feelslike_c\"]\n",
        "            condition = data[\"current\"][\"condition\"][\"text\"]\n",
        "            wind_speed = data[\"current\"][\"wind_kph\"]\n",
        "            wind_direction = data[\"current\"][\"wind_dir\"]\n",
        "            humidity = data[\"current\"][\"humidity\"]\n",
        "            cloudiness = data[\"current\"][\"cloud\"]\n",
        "            last_updated = data[\"current\"][\"last_updated\"]\n",
        "\n",
        "            # Extract air quality data\n",
        "            aqi_data = data[\"current\"][\"air_quality\"]\n",
        "            co = aqi_data.get(\"co\", \"N/A\")  # Carbon Monoxide\n",
        "            no2 = aqi_data.get(\"no2\", \"N/A\")  # Nitrogen Dioxide\n",
        "            o3 = aqi_data.get(\"o3\", \"N/A\")  # Ozone\n",
        "            pm10 = aqi_data.get(\"pm10\", \"N/A\")  # Particulate Matter 10\n",
        "            pm2_5 = aqi_data.get(\"pm2_5\", \"N/A\")  # Particulate Matter 2.5\n",
        "            so2 = aqi_data.get(\"so2\", \"N/A\")  # Sulfur Dioxide\n",
        "\n",
        "            # Build the detailed weather and air quality report\n",
        "            weather_report = (\n",
        "                f\"Weather in {location}, {country}:\\n\"\n",
        "                f\"- Condition: {condition}\\n\"\n",
        "                f\"- Temperature: {temperature}°C (Feels like: {feels_like}°C)\\n\"\n",
        "                f\"- Wind: {wind_speed} kph, Direction: {wind_direction}\\n\"\n",
        "                f\"- Humidity: {humidity}%\\n\"\n",
        "                f\"- Cloudiness: {cloudiness}%\\n\"\n",
        "                f\"- Last updated: {last_updated}\\n\\n\"\n",
        "                f\"Air Quality Index (AQI):\\n\"\n",
        "                f\"- CO (Carbon Monoxide): {co} µg/m³\\n\"\n",
        "                f\"- NO2 (Nitrogen Dioxide): {no2} µg/m³\\n\"\n",
        "                f\"- O3 (Ozone): {o3} µg/m³\\n\"\n",
        "                f\"- PM10 (Particulate Matter <10µm): {pm10} µg/m³\\n\"\n",
        "                f\"- PM2.5 (Particulate Matter <2.5µm): {pm2_5} µg/m³\\n\"\n",
        "                f\"- SO2 (Sulfur Dioxide): {so2} µg/m³\"\n",
        "            )\n",
        "            return weather_report\n",
        "        else:\n",
        "            return f\"Error: {data.get('error', {}).get('message', 'Unable to fetch weather data')}\"\n",
        "    except Exception as e:\n",
        "        return f\"An error occurred: {str(e)}\"\n",
        "\n",
        "city_name = \"Kumasi\"\n",
        "print(get_detailed_weather_weatherapi(city_name))"
      ]
    },
    {
      "cell_type": "code",
      "source": [
        "llm = ChatGroq(model=\"llama-3.3-70b-versatile\", api_key=GROQ_API_KEY)\n",
        "llm_tools = llm.bind_tools([get_detailed_weather_weatherapi])\n",
        "\n",
        "tool_call = llm_tools.invoke([HumanMessage(content=\"How is the weather in Berlin?\")])\n",
        "\n",
        "print(json.dumps(vars(tool_call), indent=4))"
      ],
      "metadata": {
        "colab": {
          "base_uri": "https://localhost:8080/"
        },
        "id": "XrsssB3CDJNm",
        "outputId": "b5830fa3-9225-4360-f993-8c8cf08ef103"
      },
      "execution_count": 4,
      "outputs": [
        {
          "output_type": "stream",
          "name": "stdout",
          "text": [
            "{\n",
            "    \"content\": \"\",\n",
            "    \"additional_kwargs\": {\n",
            "        \"tool_calls\": [\n",
            "            {\n",
            "                \"id\": \"call_b4aa\",\n",
            "                \"function\": {\n",
            "                    \"arguments\": \"{\\\"city\\\": \\\"Berlin\\\", \\\"api_key\\\": \\\"YOUR_API_KEY_HERE\\\"}\",\n",
            "                    \"name\": \"get_detailed_weather_weatherapi\"\n",
            "                },\n",
            "                \"type\": \"function\"\n",
            "            }\n",
            "        ]\n",
            "    },\n",
            "    \"response_metadata\": {\n",
            "        \"token_usage\": {\n",
            "            \"completion_tokens\": 28,\n",
            "            \"prompt_tokens\": 311,\n",
            "            \"total_tokens\": 339,\n",
            "            \"completion_time\": 0.101818182,\n",
            "            \"prompt_time\": 0.067259609,\n",
            "            \"queue_time\": 0.11956694500000001,\n",
            "            \"total_time\": 0.169077791\n",
            "        },\n",
            "        \"model_name\": \"llama-3.3-70b-versatile\",\n",
            "        \"system_fingerprint\": \"fp_1ae2705acb\",\n",
            "        \"finish_reason\": \"tool_calls\",\n",
            "        \"logprobs\": null\n",
            "    },\n",
            "    \"type\": \"ai\",\n",
            "    \"name\": null,\n",
            "    \"id\": \"run-07b6d138-b7a9-4fce-96ce-7dc983dd5799-0\",\n",
            "    \"example\": false,\n",
            "    \"tool_calls\": [\n",
            "        {\n",
            "            \"name\": \"get_detailed_weather_weatherapi\",\n",
            "            \"args\": {\n",
            "                \"city\": \"Berlin\",\n",
            "                \"api_key\": \"YOUR_API_KEY_HERE\"\n",
            "            },\n",
            "            \"id\": \"call_b4aa\",\n",
            "            \"type\": \"tool_call\"\n",
            "        }\n",
            "    ],\n",
            "    \"invalid_tool_calls\": [],\n",
            "    \"usage_metadata\": {\n",
            "        \"input_tokens\": 311,\n",
            "        \"output_tokens\": 28,\n",
            "        \"total_tokens\": 339\n",
            "    }\n",
            "}\n"
          ]
        }
      ]
    },
    {
      "cell_type": "code",
      "source": [
        "# Nodes\n",
        "def llm_with_tools(state: MessagesState):\n",
        "    return {\"messages\": [llm_tools.invoke(state[\"messages\"])]}\n",
        "\n",
        "def generate_weather_report(state: MessagesState):\n",
        "    # Extract the weather table from the last message\n",
        "    weather_table = state[\"messages\"][-1].content\n",
        "\n",
        "    prompt = f\"\"\"\n",
        "    You are a friendly and chatty weather reporter who shares the weather as if you’re experiencing it yourself in the location.\n",
        "    Your goal is to describe the weather in a way that feels personal, engaging, and easy to understand.\n",
        "    Use the provided data to create a conversational response that includes feelings and suggests possible activities based on the weather.\n",
        "\n",
        "    Here is the weather data:\n",
        "    {weather_table}\n",
        "\n",
        "    Use the data above to create a response. Here's the tone you're aiming for:\n",
        "    1. Friendly and casual, like you're talking to a friend.\n",
        "    2. Include your personal perspective, as if you’re sitting in this weather right now.\n",
        "    3. Suggest one or two activities based on the weather.\n",
        "    4. Make your answer short: just one or two sentences.\n",
        "    \"\"\"\n",
        "\n",
        "    state[\"messages\"].append(HumanMessage(content=prompt))\n",
        "    return {\"messages\": [llm_tools.invoke(state[\"messages\"])]}"
      ],
      "metadata": {
        "id": "iNdR5aH0acvr"
      },
      "execution_count": 5,
      "outputs": []
    },
    {
      "cell_type": "markdown",
      "source": [
        "## **Step 3: Build the Graph State**"
      ],
      "metadata": {
        "id": "PNqH5UvUlsZD"
      }
    },
    {
      "cell_type": "markdown",
      "source": [
        "**StateGraph**: We create a state graph to manage the flow of messages.  \n",
        "**Adding Nodes**: We add nodes for invoking the LLM, fetching weather data, and generating reports.  \n",
        "**Adding Edges**: We define the flow of execution, including conditional edges that determine the next step based on the last message."
      ],
      "metadata": {
        "id": "UImt0kMpmACe"
      }
    },
    {
      "cell_type": "code",
      "source": [
        "# Build graph\n",
        "builder = StateGraph(MessagesState)\n",
        "builder.add_node(\"llm_with_tools\", llm_with_tools)\n",
        "builder.add_node(\"tools\", ToolNode([get_detailed_weather_weatherapi]))\n",
        "builder.add_node(\"generate_weather_report\", generate_weather_report)\n",
        "\n",
        "builder.add_edge(START, \"llm_with_tools\")\n",
        "builder.add_conditional_edges(\n",
        "    \"llm_with_tools\",\n",
        "    # If the latest message (result) from assistant is a tool call -> tools_condition routes to tools\n",
        "    # If the latest message (result) from assistant is a not a tool call -> tools_condition routes to END\n",
        "    tools_condition,\n",
        ")\n",
        "builder.add_edge(\"tools\", \"generate_weather_report\")\n",
        "builder.add_edge(\"generate_weather_report\", END)\n",
        "\n",
        "graph = builder.compile()\n",
        "\n",
        "# View\n",
        "display(Image(graph.get_graph().draw_mermaid_png()))"
      ],
      "metadata": {
        "colab": {
          "base_uri": "https://localhost:8080/",
          "height": 449
        },
        "id": "NBYtmNFql0DO",
        "outputId": "1b40e5aa-bf44-441b-af4c-34b5d994e793"
      },
      "execution_count": 6,
      "outputs": [
        {
          "output_type": "display_data",
          "data": {
            "image/png": "[encoded data removed]",
            "text/plain": [
              "<IPython.core.display.Image object>"
            ]
          },
          "metadata": {}
        }
      ]
    },
    {
      "cell_type": "markdown",
      "source": [
        "## **Step4: Invoke the Graph**"
      ],
      "metadata": {
        "id": "R63smmJ_mY4I"
      }
    },
    {
      "cell_type": "code",
      "source": [
        "messages = [HumanMessage(content=\"How is the weather in Kumasi today?\")]\n",
        "messages = graph.invoke({\"messages\": messages})\n",
        "for m in messages['messages']:\n",
        "    m.pretty_print()"
      ],
      "metadata": {
        "colab": {
          "base_uri": "https://localhost:8080/"
        },
        "id": "gU7IRFIhbT_C",
        "outputId": "eb0fc9f9-4f49-4a68-d945-afd17248a028"
      },
      "execution_count": 7,
      "outputs": [
        {
          "output_type": "stream",
          "name": "stdout",
          "text": [
            "================================\u001b[1m Human Message \u001b[0m=================================\n",
            "\n",
            "How is the weather in Kumasi today?\n",
            "==================================\u001b[1m Ai Message \u001b[0m==================================\n",
            "Tool Calls:\n",
            "  get_detailed_weather_weatherapi (call_ykg1)\n",
            " Call ID: call_ykg1\n",
            "  Args:\n",
            "    city: Kumasi\n",
            "    api_key: YOUR_API_KEY_HERE\n",
            "=================================\u001b[1m Tool Message \u001b[0m=================================\n",
            "Name: get_detailed_weather_weatherapi\n",
            "\n",
            "Weather in Kumasi, Ghana:\n",
            "- Condition: Partly cloudy\n",
            "- Temperature: 35.2°C (Feels like: 33.6°C)\n",
            "- Wind: 4.7 kph, Direction: ESE\n",
            "- Humidity: 44%\n",
            "- Cloudiness: 50%\n",
            "- Last updated: 2025-01-23 14:30\n",
            "\n",
            "Air Quality Index (AQI):\n",
            "- CO (Carbon Monoxide): 595.7 µg/m³\n",
            "- NO2 (Nitrogen Dioxide): 1.48 µg/m³\n",
            "- O3 (Ozone): 120.0 µg/m³\n",
            "- PM10 (Particulate Matter <10µm): 169.645 µg/m³\n",
            "- PM2.5 (Particulate Matter <2.5µm): 57.35 µg/m³\n",
            "- SO2 (Sulfur Dioxide): 2.035 µg/m³\n",
            "================================\u001b[1m Human Message \u001b[0m=================================\n",
            "\n",
            "\n",
            "    You are a friendly and chatty weather reporter who shares the weather as if you’re experiencing it yourself in the location. \n",
            "    Your goal is to describe the weather in a way that feels personal, engaging, and easy to understand. \n",
            "    Use the provided data to create a conversational response that includes feelings and suggests possible activities based on the weather.\n",
            "\n",
            "    Here is the weather data:\n",
            "    Weather in Kumasi, Ghana:\n",
            "- Condition: Partly cloudy\n",
            "- Temperature: 35.2°C (Feels like: 33.6°C)\n",
            "- Wind: 4.7 kph, Direction: ESE\n",
            "- Humidity: 44%\n",
            "- Cloudiness: 50%\n",
            "- Last updated: 2025-01-23 14:30\n",
            "\n",
            "Air Quality Index (AQI):\n",
            "- CO (Carbon Monoxide): 595.7 µg/m³\n",
            "- NO2 (Nitrogen Dioxide): 1.48 µg/m³\n",
            "- O3 (Ozone): 120.0 µg/m³\n",
            "- PM10 (Particulate Matter <10µm): 169.645 µg/m³\n",
            "- PM2.5 (Particulate Matter <2.5µm): 57.35 µg/m³\n",
            "- SO2 (Sulfur Dioxide): 2.035 µg/m³\n",
            "    \n",
            "    Use the data above to create a response. Here's the tone you're aiming for:\n",
            "    1. Friendly and casual, like you're talking to a friend.\n",
            "    2. Include your personal perspective, as if you’re sitting in this weather right now.\n",
            "    3. Suggest one or two activities based on the weather.\n",
            "    4. Make your answer short: just one or two sentences.\n",
            "    \n",
            "==================================\u001b[1m Ai Message \u001b[0m==================================\n",
            "\n",
            "I'm melting here in Kumasi, it's a scorching 35.2°C, but at least the partly cloudy sky is giving me a bit of a break from the sun, and I think it's a perfect day to grab a cold drink and head to the nearby lake for a refreshing swim. The gentle 4.7 kph breeze from the ESE is also helping to cool me down, so I might just take a leisurely stroll around the city later to enjoy the sights and sounds.\n"
          ]
        }
      ]
    }
  ]
}